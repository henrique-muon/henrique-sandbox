{
 "cells": [
  {
   "cell_type": "markdown",
   "id": "eba1a5af",
   "metadata": {},
   "source": [
    "# Optical ISL link budget "
   ]
  },
  {
   "cell_type": "markdown",
   "id": "c578f7b2",
   "metadata": {},
   "source": [
    "### Packages"
   ]
  },
  {
   "cell_type": "code",
   "execution_count": 6,
   "id": "99fc143a",
   "metadata": {},
   "outputs": [],
   "source": [
    "using Unitful\n",
    "using PhysicalConstants.CODATA2018"
   ]
  },
  {
   "cell_type": "markdown",
   "id": "9cd34e2f",
   "metadata": {},
   "source": [
    "### Constants"
   ]
  },
  {
   "cell_type": "code",
   "execution_count": 19,
   "id": "458430c2",
   "metadata": {},
   "outputs": [],
   "source": [
    "λ = 1550u\"nm\"\n",
    "range = 7000u\"km\"\n",
    "Pₜₓ = 33u\"dBm\"\n",
    "Dₜₓ = 10.0u\"cm\"\n",
    "Dᵣₓ = 10.0u\"cm\"\n",
    "ηₜₓ = ηᵣₓ = 0.5;\n",
    "Lₜₓ = Lᵣₓ = 3u\"dB\"\n",
    "rate = 10.0e9u\"1/s\";\n"
   ]
  },
  {
   "cell_type": "markdown",
   "id": "c2918f3d",
   "metadata": {},
   "source": [
    "### Computation functions"
   ]
  },
  {
   "cell_type": "code",
   "execution_count": 23,
   "id": "85bcbac9",
   "metadata": {},
   "outputs": [],
   "source": [
    "gain(D,λ) = (π*D./λ).^2\n",
    "optics(Pᵢₙ, D, λ, η, L) =  Pᵢₙ + 10log10(η * gain(D, λ))u\"dB\" - L\n",
    "channel(Pᵢₙ, r, λ) = Pᵢₙ - 10log10((4π*r./λ).^2)u\"dB\"\n",
    "detector(Pᵢₙ, λ, rate) = \n",
    "    linear(Pᵢₙ) / (SpeedOfLightInVacuum * PlanckConstant / λ) / rate |> NoUnits |> round |> Int;"
   ]
  },
  {
   "cell_type": "markdown",
   "id": "4b118457",
   "metadata": {},
   "source": [
    "### Link Budget processing"
   ]
  },
  {
   "cell_type": "code",
   "execution_count": 24,
   "id": "75aaed88",
   "metadata": {},
   "outputs": [
    {
     "name": "stdout",
     "output_type": "stream",
     "text": [
      "Pᵣₓ = -41.827397049647175 dBm\n",
      "51 photons/bit\n"
     ]
    }
   ],
   "source": [
    "Pᵣₓ = Pₜₓ |> \n",
    "x -> optics(x , Dₜₓ, λ, ηₜₓ, Lₜₓ) |> \n",
    "x -> channel(x, range, λ) |> \n",
    "x -> optics(x , Dᵣₓ, λ, ηₜₓ, Lᵣₓ)\n",
    "@show Pᵣₓ\n",
    "Pᵣₓ |> x -> detector(x, λ, rate) |> x -> println(x,\" photons/bit\")"
   ]
  },
  {
   "cell_type": "markdown",
   "id": "e505fb79",
   "metadata": {},
   "source": [
    "## Summary of optical comms receiver performance with demonstration systems\n",
    "\n",
    "<img src=\"optical_comms_summary.png\" width=\"800\">\n",
    "<img src=\"optical_comms_demo_list.png\" width=\"600\">\n",
    "\n",
    "### Reference\n",
    "Majumdar, A.K. and Ricklin, J.C. (2008) Free-Space Laser Communications: Principles and Advances. Springer, New York.\n",
    "\n",
    "https://doi.org/10.1007/978-0-387-28677-8"
   ]
  }
 ],
 "metadata": {
  "@webio": {
   "lastCommId": null,
   "lastKernelId": null
  },
  "kernelspec": {
   "display_name": "Julia 1.7.3",
   "language": "julia",
   "name": "julia-1.7"
  },
  "language_info": {
   "file_extension": ".jl",
   "mimetype": "application/julia",
   "name": "julia",
   "version": "1.7.3"
  }
 },
 "nbformat": 4,
 "nbformat_minor": 5
}
